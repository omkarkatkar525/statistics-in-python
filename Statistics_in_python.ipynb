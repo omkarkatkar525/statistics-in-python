{
  "nbformat": 4,
  "nbformat_minor": 0,
  "metadata": {
    "colab": {
      "name": "Statistics_in_python.ipynb",
      "provenance": [],
      "collapsed_sections": []
    },
    "kernelspec": {
      "name": "python3",
      "display_name": "Python 3"
    },
    "language_info": {
      "name": "python"
    }
  },
  "cells": [
    {
      "cell_type": "code",
      "metadata": {
        "id": "gNQTMSMv4UZP"
      },
      "source": [
        "import pandas as pd\n",
        "from scipy import stats\n",
        "import matplotlib as plt\n",
        "import seaborn as sea\n",
        "import numpy as np\n",
        "import statistics as stati"
      ],
      "execution_count": null,
      "outputs": []
    },
    {
      "cell_type": "markdown",
      "metadata": {
        "id": "hBMnP237nc9e"
      },
      "source": [
        "### Set - 1 for the standard deviation (Que- 5)"
      ]
    },
    {
      "cell_type": "code",
      "metadata": {
        "id": "riL0fv9I4UUR"
      },
      "source": [
        " a = [0.1,0.1,0.2,0.2,0.3,0.1]"
      ],
      "execution_count": null,
      "outputs": []
    },
    {
      "cell_type": "code",
      "metadata": {
        "id": "rqfw_g5w4URp",
        "colab": {
          "base_uri": "https://localhost:8080/"
        },
        "outputId": "a2f3480b-ae9f-4511-b7b5-c248b2494f84"
      },
      "source": [
        "stati.stdev(a)"
      ],
      "execution_count": null,
      "outputs": [
        {
          "output_type": "execute_result",
          "data": {
            "text/plain": [
              "0.0816496580927726"
            ]
          },
          "metadata": {},
          "execution_count": 36
        }
      ]
    },
    {
      "cell_type": "markdown",
      "metadata": {
        "id": "z5OcQwYj6zcc"
      },
      "source": [
        "# Set 2 Normal distribution, Functions of Random Variables"
      ]
    },
    {
      "cell_type": "markdown",
      "metadata": {
        "id": "QmehnqWFYk0O"
      },
      "source": [
        "## Que 1"
      ]
    },
    {
      "cell_type": "code",
      "metadata": {
        "colab": {
          "base_uri": "https://localhost:8080/"
        },
        "id": "4SdA7mAv4UPI",
        "outputId": "eab31971-381e-47f0-a0f1-1773eee5d63a"
      },
      "source": [
        "1- stats.norm.cdf(x=50, loc = 45, scale = 8)"
      ],
      "execution_count": null,
      "outputs": [
        {
          "output_type": "execute_result",
          "data": {
            "text/plain": [
              "0.26598552904870054"
            ]
          },
          "metadata": {},
          "execution_count": 3
        }
      ]
    },
    {
      "cell_type": "markdown",
      "metadata": {
        "id": "IiM75BPT9OZx"
      },
      "source": [
        "### Probability of employees at the processing center are older than 44 "
      ]
    },
    {
      "cell_type": "code",
      "metadata": {
        "colab": {
          "base_uri": "https://localhost:8080/"
        },
        "id": "P5I4Mng-4UMZ",
        "outputId": "a455a5e0-1138-4415-d82b-30ea3ae10a05"
      },
      "source": [
        "1-stats.norm.cdf(x=44, loc = 38, scale = 6)"
      ],
      "execution_count": null,
      "outputs": [
        {
          "output_type": "execute_result",
          "data": {
            "text/plain": [
              "0.15865525393145707"
            ]
          },
          "metadata": {},
          "execution_count": 4
        }
      ]
    },
    {
      "cell_type": "markdown",
      "metadata": {
        "id": "-M2LqdSZ9SoJ"
      },
      "source": [
        "## Probability of employees at the processing center are between 38 and 44 "
      ]
    },
    {
      "cell_type": "code",
      "metadata": {
        "colab": {
          "base_uri": "https://localhost:8080/"
        },
        "id": "a4fmH3Ud4UKH",
        "outputId": "3968ac4b-15d3-4031-aa2f-334767111e5f"
      },
      "source": [
        "stats.norm.cdf(x=44, loc = 38, scale = 6)-stats.norm.cdf(x=38, loc = 38, scale = 6)"
      ],
      "execution_count": null,
      "outputs": [
        {
          "output_type": "execute_result",
          "data": {
            "text/plain": [
              "0.3413447460685429"
            ]
          },
          "metadata": {},
          "execution_count": 5
        }
      ]
    },
    {
      "cell_type": "markdown",
      "metadata": {
        "id": "93edAZPB9uVH"
      },
      "source": [
        "## Training  program for employees under the age of 30 at the center would be expected to attract about 36 employees."
      ]
    },
    {
      "cell_type": "code",
      "metadata": {
        "colab": {
          "base_uri": "https://localhost:8080/"
        },
        "id": "W4gfUcpi4UHZ",
        "outputId": "9e2f717f-1c82-4419-c046-1169afa8a29a"
      },
      "source": [
        "400*(stats.norm.cdf(x=30, loc = 38, scale = 6))"
      ],
      "execution_count": null,
      "outputs": [
        {
          "output_type": "execute_result",
          "data": {
            "text/plain": [
              "36.484487890347154"
            ]
          },
          "metadata": {},
          "execution_count": 6
        }
      ]
    },
    {
      "cell_type": "code",
      "metadata": {
        "id": "QYrK-7En4UEf"
      },
      "source": [
        "##"
      ],
      "execution_count": null,
      "outputs": []
    },
    {
      "cell_type": "markdown",
      "metadata": {
        "id": "qKJWDNmm-CZ9"
      },
      "source": [
        "## Que 2 confidence interval"
      ]
    },
    {
      "cell_type": "code",
      "metadata": {
        "colab": {
          "base_uri": "https://localhost:8080/"
        },
        "id": "Li-OhT5j4UBY",
        "outputId": "661e8e24-6a5d-48d2-ca17-0462c9e1c2f4"
      },
      "source": [
        "stats.norm.interval(0.99, loc = 100, scale = 20)"
      ],
      "execution_count": null,
      "outputs": [
        {
          "output_type": "execute_result",
          "data": {
            "text/plain": [
              "(48.48341392902199, 151.516586070978)"
            ]
          },
          "metadata": {},
          "execution_count": 7
        }
      ]
    },
    {
      "cell_type": "code",
      "metadata": {
        "colab": {
          "base_uri": "https://localhost:8080/"
        },
        "id": "78ZZ32Nu4T-g",
        "outputId": "85303467-572c-48ea-99bf-59c73a14ee2e"
      },
      "source": [
        "stats.t.interval(0.99,df= 100, loc = 100, scale = 20)"
      ],
      "execution_count": null,
      "outputs": [
        {
          "output_type": "execute_result",
          "data": {
            "text/plain": [
              "(47.48218958827333, 152.51781041172666)"
            ]
          },
          "metadata": {},
          "execution_count": 8
        }
      ]
    },
    {
      "cell_type": "code",
      "metadata": {
        "colab": {
          "base_uri": "https://localhost:8080/"
        },
        "id": "RozczVEh5rg1",
        "outputId": "0ea7f9b8-c48f-411f-feb9-a0657aff86ed"
      },
      "source": [
        "stats.norm.interval(0.95, loc = 0.046)"
      ],
      "execution_count": null,
      "outputs": [
        {
          "output_type": "execute_result",
          "data": {
            "text/plain": [
              "(-1.913963984540054, 2.005963984540054)"
            ]
          },
          "metadata": {},
          "execution_count": 9
        }
      ]
    },
    {
      "cell_type": "markdown",
      "metadata": {
        "id": "VAr8sz4lYpTO"
      },
      "source": [
        "## Que 3"
      ]
    },
    {
      "cell_type": "code",
      "metadata": {
        "colab": {
          "base_uri": "https://localhost:8080/"
        },
        "id": "WHJSPCreYsfv",
        "outputId": "b3f58ab3-ac15-4dc5-aa36-ad0e6836e366"
      },
      "source": [
        "#Mean profits from two different divisions of a company = Mean1 + Mean2\n",
        "Mean = 5+7\n",
        "print('Mean Profit', Mean*45,'Million')"
      ],
      "execution_count": null,
      "outputs": [
        {
          "output_type": "stream",
          "name": "stdout",
          "text": [
            "Mean Profit 540 Million\n"
          ]
        }
      ]
    },
    {
      "cell_type": "code",
      "metadata": {
        "colab": {
          "base_uri": "https://localhost:8080/"
        },
        "id": "TSNsSHOPYscn",
        "outputId": "82d6817f-64c9-4fc2-e163-7da8104dab37"
      },
      "source": [
        "# Variance of profits from two different divisions of a company = SD^2 = SD1^2 + SD2^2\n",
        "SD = np.sqrt((16)+(9))\n",
        "print('Standard Deviation', SD*45, 'Million')"
      ],
      "execution_count": null,
      "outputs": [
        {
          "output_type": "stream",
          "name": "stdout",
          "text": [
            "Standard Deviation 225.0 Million\n"
          ]
        }
      ]
    },
    {
      "cell_type": "code",
      "metadata": {
        "colab": {
          "base_uri": "https://localhost:8080/"
        },
        "id": "b7g4-sZ0YsZf",
        "outputId": "6af73746-13b8-4576-9703-aab12ebd81d2"
      },
      "source": [
        "# Range such that it contains 95% probability for the annual profit of the company\n",
        "print('Range is Rs',(stats.norm.interval(0.95,540,225)),'in Millions')"
      ],
      "execution_count": null,
      "outputs": [
        {
          "output_type": "stream",
          "name": "stdout",
          "text": [
            "Range is Rs (99.00810347848784, 980.9918965215122) in Millions\n"
          ]
        }
      ]
    },
    {
      "cell_type": "code",
      "metadata": {
        "colab": {
          "base_uri": "https://localhost:8080/"
        },
        "id": "F7BUscBHZibi",
        "outputId": "d2556ac9-eb9c-422c-b0b0-37256b0bbc67"
      },
      "source": [
        "## 5th percentile of profit (in Rupees) for the company\n",
        "X = 540 + (-1.645)*225\n",
        "print('5th percentile of profit is',np.round(X,))"
      ],
      "execution_count": null,
      "outputs": [
        {
          "output_type": "stream",
          "name": "stdout",
          "text": [
            "5th percentile of profit is 170.0\n"
          ]
        }
      ]
    },
    {
      "cell_type": "code",
      "metadata": {
        "colab": {
          "base_uri": "https://localhost:8080/"
        },
        "id": "4OKlirpGcRkX",
        "outputId": "a94ef6a9-7f05-427f-943f-3c56d968b130"
      },
      "source": [
        "# probability of making a loss by Division 1 P(X<0)\n",
        "stats.norm.cdf(0,5,3)"
      ],
      "execution_count": null,
      "outputs": [
        {
          "output_type": "execute_result",
          "data": {
            "text/plain": [
              "0.0477903522728147"
            ]
          },
          "metadata": {},
          "execution_count": 26
        }
      ]
    },
    {
      "cell_type": "code",
      "metadata": {
        "colab": {
          "base_uri": "https://localhost:8080/"
        },
        "id": "owz_fWAacfQf",
        "outputId": "f2a09413-d84e-48a2-ab8e-9eb4841df084"
      },
      "source": [
        "# probability of making a loss by Division 2 P(X<0)\n",
        "stats.norm.cdf(0,7,4)"
      ],
      "execution_count": null,
      "outputs": [
        {
          "output_type": "execute_result",
          "data": {
            "text/plain": [
              "0.040059156863817086"
            ]
          },
          "metadata": {},
          "execution_count": 27
        }
      ]
    },
    {
      "cell_type": "code",
      "metadata": {
        "id": "fATRUdIHTqS2",
        "colab": {
          "base_uri": "https://localhost:8080/"
        },
        "outputId": "a2066188-acb5-479d-82e7-495956bd0002"
      },
      "source": [
        "a=[24.23,25.53,25.41\n",
        ",24.14\n",
        ",29.62\n",
        ",28.25\n",
        ",25.81\n",
        ",24.39\n",
        ",40.26\n",
        ",32.95\n",
        ",91.36\n",
        ",25.99\n",
        ",39.42\n",
        ",26.71\n",
        ",35.00]\n",
        "a"
      ],
      "execution_count": null,
      "outputs": [
        {
          "output_type": "execute_result",
          "data": {
            "text/plain": [
              "[24.23,\n",
              " 25.53,\n",
              " 25.41,\n",
              " 24.14,\n",
              " 29.62,\n",
              " 28.25,\n",
              " 25.81,\n",
              " 24.39,\n",
              " 40.26,\n",
              " 32.95,\n",
              " 91.36,\n",
              " 25.99,\n",
              " 39.42,\n",
              " 26.71,\n",
              " 35.0]"
            ]
          },
          "metadata": {},
          "execution_count": 11
        }
      ]
    },
    {
      "cell_type": "code",
      "metadata": {
        "id": "Yvd6RewCT76Z"
      },
      "source": [
        "import pandas as pd"
      ],
      "execution_count": null,
      "outputs": []
    },
    {
      "cell_type": "code",
      "metadata": {
        "id": "DgeusH9uUSaR"
      },
      "source": [
        "import statistics as sts"
      ],
      "execution_count": null,
      "outputs": []
    },
    {
      "cell_type": "code",
      "metadata": {
        "id": "cEHPWkPeUcmh",
        "colab": {
          "base_uri": "https://localhost:8080/"
        },
        "outputId": "728792ec-429b-4ccb-b2df-fbc4d5aad97b"
      },
      "source": [
        "# mean\n",
        "sts.mean(a)"
      ],
      "execution_count": null,
      "outputs": [
        {
          "output_type": "execute_result",
          "data": {
            "text/plain": [
              "33.27133333333333"
            ]
          },
          "metadata": {},
          "execution_count": 14
        }
      ]
    },
    {
      "cell_type": "code",
      "metadata": {
        "id": "cyQ4oMRUdQ2S",
        "colab": {
          "base_uri": "https://localhost:8080/"
        },
        "outputId": "83c46644-093a-428c-9fc5-fa35996b7654"
      },
      "source": [
        "# Standard Deviation\n",
        "sts.stdev(a)"
      ],
      "execution_count": null,
      "outputs": [
        {
          "output_type": "execute_result",
          "data": {
            "text/plain": [
              "16.945400921222028"
            ]
          },
          "metadata": {},
          "execution_count": 16
        }
      ]
    },
    {
      "cell_type": "code",
      "metadata": {
        "id": "VvTHEIAydTxy"
      },
      "source": [
        "import seaborn as sea"
      ],
      "execution_count": null,
      "outputs": []
    },
    {
      "cell_type": "code",
      "metadata": {
        "id": "Dzb5woR-eQfr"
      },
      "source": [
        "import matplotlib.pyplot as plt\n"
      ],
      "execution_count": null,
      "outputs": []
    },
    {
      "cell_type": "code",
      "metadata": {
        "id": "cVpBNg3HduSD",
        "colab": {
          "base_uri": "https://localhost:8080/",
          "height": 667
        },
        "outputId": "1b67f57b-9d74-4711-dfb1-215c0b4d9820"
      },
      "source": [
        "plt.figure(figsize=(22,10)) \n",
        "sea.boxplot(a,orient='h')"
      ],
      "execution_count": null,
      "outputs": [
        {
          "output_type": "stream",
          "name": "stderr",
          "text": [
            "/usr/local/lib/python3.7/dist-packages/seaborn/_decorators.py:43: FutureWarning: Pass the following variable as a keyword arg: x. From version 0.12, the only valid positional argument will be `data`, and passing other arguments without an explicit keyword will result in an error or misinterpretation.\n",
            "  FutureWarning\n"
          ]
        },
        {
          "output_type": "execute_result",
          "data": {
            "text/plain": [
              "<matplotlib.axes._subplots.AxesSubplot at 0x7f53f828ad50>"
            ]
          },
          "metadata": {},
          "execution_count": 19
        },
        {
          "output_type": "display_data",
          "data": {
            "image/png": "[encoded data removed]",
            "text/plain": [
              "<Figure size 1584x720 with 1 Axes>"
            ]
          },
          "metadata": {
            "needs_background": "light"
          }
        }
      ]
    },
    {
      "cell_type": "markdown",
      "metadata": {
        "id": "dDqwPVpeSxTi"
      },
      "source": [
        "## Que 4\t\n"
      ]
    },
    {
      "cell_type": "code",
      "metadata": {
        "id": "mjmDgEm1WB8x"
      },
      "source": [
        "# For No investigation P(45<X<55)\n",
        "# For Investigation 1-P(45<X<55)"
      ],
      "execution_count": null,
      "outputs": []
    },
    {
      "cell_type": "code",
      "metadata": {
        "id": "PI9nv6wfd0Sy",
        "colab": {
          "base_uri": "https://localhost:8080/"
        },
        "outputId": "511e9272-cf9d-4248-c179-ebfa2ec87417"
      },
      "source": [
        "#For No investigation P(45<X<55)\n",
        "stats.norm.cdf(x=55, loc = 50, scale = 4)-stats.norm.cdf(x=45, loc = 50, scale = 4)"
      ],
      "execution_count": null,
      "outputs": [
        {
          "output_type": "execute_result",
          "data": {
            "text/plain": [
              "0.7887004526662893"
            ]
          },
          "metadata": {},
          "execution_count": 5
        }
      ]
    },
    {
      "cell_type": "code",
      "metadata": {
        "colab": {
          "base_uri": "https://localhost:8080/"
        },
        "id": "sdmReIHqTGZ8",
        "outputId": "0f28809e-b6a3-47d5-ff05-ea6cbf69fe4b"
      },
      "source": [
        "# For Investigation 1-P(45<X<55)\n",
        "1-(stats.norm.cdf(x=55, loc = 50, scale = 4)-stats.norm.cdf(x=45, loc = 50, scale = 4))"
      ],
      "execution_count": null,
      "outputs": [
        {
          "output_type": "execute_result",
          "data": {
            "text/plain": [
              "0.2112995473337107"
            ]
          },
          "metadata": {},
          "execution_count": 7
        }
      ]
    },
    {
      "cell_type": "code",
      "metadata": {
        "id": "tX6tl_QnWU0p"
      },
      "source": [
        ""
      ],
      "execution_count": null,
      "outputs": []
    }
  ]
}